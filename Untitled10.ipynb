{
 "cells": [
  {
   "cell_type": "code",
   "execution_count": 18,
   "metadata": {},
   "outputs": [
    {
     "name": "stdout",
     "output_type": "stream",
     "text": [
      "Введите день: 16\n",
      "Введите месяц: Июль\n",
      "Ваш знак зодиака:  Рак\n"
     ]
    }
   ],
   "source": [
    "months = ['Январь', 'Февраль', 'Март', 'Апрель', 'Май', 'Июнь', 'Июль', 'Август', 'Сентябрь', 'Октябрь', 'Ноябрь', 'Декабрь']\n",
    "\n",
    "bd_day = input('Введите день: ')\n",
    "bd_month = input('Введите месяц: ')\n",
    "\n",
    "if not bd_day.isdigit():\n",
    "    print('Вы ввели не число')\n",
    "if not bd_month.lower() in [i.lower() for i in months]:\n",
    "    print('Вы ввели несуществующий месяц')\n",
    "bd_day = int(bd_day)\n",
    "bd_month = bd_month.capitalize()\n",
    "\n",
    "result = None\n",
    "if (bd_month == 'Январь' and 1 <= bd_day <= 20) or (bd_month == 'Декабрь' and 22 <= bd_day <= 31):\n",
    "    result = 'Козерог'\n",
    "if (bd_month == 'Февраль' and 1 <= bd_day <= 18) or (bd_month == 'Январь' and 21 <= bd_day <= 31):\n",
    "    result = 'Водолей'\n",
    "if (bd_month == 'Март' and 1 <= bd_day <= 20) or (bd_month == 'Февраль' and 19 <= bd_day <= 29):\n",
    "    result = 'Рыбы'\n",
    "if (bd_month == 'Апрель' and 1 <= bd_day <= 20) or (bd_month == 'Март' and 21 <= bd_day <= 31):\n",
    "    result = 'Овен'\n",
    "if (bd_month == 'Май' and 1 <= bd_day <= 21) or (bd_month == 'Апрель' and 21 <= bd_day <= 30):\n",
    "    result = 'Телец'\n",
    "if (bd_month == 'Июнь' and 1 <= bd_day <= 21) or (bd_month == 'Май' and 22 <= bd_day <= 31):\n",
    "    result = 'Близнецы'\n",
    "if (bd_month == 'Июль' and 1 <= bd_day <= 22) or (bd_month == 'Июнь' and 22 <= bd_day <= 30):\n",
    "    result = 'Рак'\n",
    "if (bd_month == 'Август' and 1 <= bd_day <= 23) or (bd_month == 'Июль' and 23 <= bd_day <= 31):\n",
    "    result = 'Лев'\n",
    "if (bd_month == 'Сентябрь' and 1 <= bd_day <= 22) or (bd_month == 'Август' and 24 <= bd_day <= 31):\n",
    "    result = 'Дева'\n",
    "if (bd_month == 'Октябрь' and 1 <= bd_day <= 23) or (bd_month == 'Сентябрь' and 23 <= bd_day <= 30):\n",
    "    result = 'Весы'\n",
    "if (bd_month == 'Ноябрь' and 1 <= bd_day <= 22) or (bd_month == 'Октябрь' and 24 <= bd_day <= 31):\n",
    "    result = 'Скорпион'\n",
    "if (bd_month == 'Декабрь' and 1 <= bd_day <= 21) or (bd_month == 'Ноябрь' and 23 <= bd_day <= 30):\n",
    "    result = 'Стрелец'\n",
    "    \n",
    "print('Ваш знак зодиака: ', result)"
   ]
  },
  {
   "cell_type": "code",
   "execution_count": null,
   "metadata": {},
   "outputs": [],
   "source": [
    "#задание 4"
   ]
  },
  {
   "cell_type": "code",
   "execution_count": 29,
   "metadata": {},
   "outputs": [],
   "source": [
    "width = 3\n",
    "length = 201\n",
    "height = 45\n",
    "\n"
   ]
  },
  {
   "cell_type": "code",
   "execution_count": 30,
   "metadata": {},
   "outputs": [
    {
     "name": "stdout",
     "output_type": "stream",
     "text": [
      "Упаковка для лыж\n"
     ]
    }
   ],
   "source": [
    "box_list = [width, length, height]\n",
    "\n",
    "if all([i <= 15 for i in box_list]):\n",
    "    print('Коробка №1')\n",
    "elif any([i > 200 for i in box_list]):\n",
    "    print('Упаковка для лыж')\n",
    "elif any([15 < i < 50 for i in box_list]):\n",
    "    print('Коробка №2')\n",
    "else:\n",
    "    print('Коробка №3')"
   ]
  },
  {
   "cell_type": "code",
   "execution_count": null,
   "metadata": {},
   "outputs": [],
   "source": []
  }
 ],
 "metadata": {
  "kernelspec": {
   "display_name": "Python 3",
   "language": "python",
   "name": "python3"
  },
  "language_info": {
   "codemirror_mode": {
    "name": "ipython",
    "version": 3
   },
   "file_extension": ".py",
   "mimetype": "text/x-python",
   "name": "python",
   "nbconvert_exporter": "python",
   "pygments_lexer": "ipython3",
   "version": "3.7.3"
  }
 },
 "nbformat": 4,
 "nbformat_minor": 4
}
