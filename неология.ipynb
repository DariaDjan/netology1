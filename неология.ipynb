{
 "cells": [
  {
   "cell_type": "code",
   "execution_count": null,
   "metadata": {},
   "outputs": [],
   "source": [
    "#задание 1"
   ]
  },
  {
   "cell_type": "code",
   "execution_count": null,
   "metadata": {},
   "outputs": [],
   "source": [
    "phrase_1 = 'Насколько проще было бы писать программы, если бы не заказчики'\n",
    "phrase_2 = '640Кб должно хватить для любых задач. Билл Гейтс (по легенде)'"
   ]
  },
  {
   "cell_type": "code",
   "execution_count": null,
   "metadata": {},
   "outputs": [],
   "source": [
    "phrase_1 = len(phrase_1)"
   ]
  },
  {
   "cell_type": "code",
   "execution_count": null,
   "metadata": {},
   "outputs": [],
   "source": [
    "phrase_2 = len(phrase_2)"
   ]
  },
  {
   "cell_type": "code",
   "execution_count": null,
   "metadata": {},
   "outputs": [],
   "source": [
    "if phrase_1 > phrase_2:\n",
    "    print('Фраза 1 длиннее фразы 2')\n",
    "elif  phrase_1 < phrase_2:\n",
    "    print('Фраза 2 длиннее фразы 1')\n",
    "else:\n",
    "    print('Фразы равной длины')"
   ]
  },
  {
   "cell_type": "code",
   "execution_count": null,
   "metadata": {},
   "outputs": [],
   "source": [
    "#задание 2"
   ]
  },
  {
   "cell_type": "code",
   "execution_count": null,
   "metadata": {},
   "outputs": [],
   "source": [
    "year = 2007"
   ]
  },
  {
   "cell_type": "code",
   "execution_count": null,
   "metadata": {},
   "outputs": [],
   "source": [
    "import calendar\n",
    "print(calendar.isleap(year))"
   ]
  },
  {
   "cell_type": "code",
   "execution_count": null,
   "metadata": {},
   "outputs": [],
   "source": [
    "l_year = calendar.isleap(year)"
   ]
  },
  {
   "cell_type": "code",
   "execution_count": null,
   "metadata": {},
   "outputs": [],
   "source": [
    "if l_year is False:\n",
    "    print('Обычный год')\n",
    "else:\n",
    "    print('Високосный год')"
   ]
  },
  {
   "cell_type": "code",
   "execution_count": null,
   "metadata": {},
   "outputs": [],
   "source": [
    "#задание 3"
   ]
  },
  {
   "cell_type": "code",
   "execution_count": null,
   "metadata": {},
   "outputs": [],
   "source": [
    "months = ['Январь', 'Февраль', 'Март', 'Апрель', 'Май', 'Июнь', 'Июль', 'Август', 'Сентябрь', 'Октябрь', 'Ноябрь', 'Декабрь']\n",
    "\n",
    "bd_day = input('Введите день: ')\n",
    "bd_month = input('Введите месяц: ')\n",
    "\n",
    "if not bd_day.isdigit():\n",
    "    print('Вы ввели не число')\n",
    "if not bd_month.lower() in [i.lower() for i in months]:\n",
    "    print('Вы ввели несуществующий месяц')\n",
    "bd_day = int(bd_day)\n",
    "bd_month = bd_month.capitalize()\n",
    "\n",
    "result = None\n",
    "if (bd_month == 'Январь' and 1 <= bd_day <= 20) or (bd_month == 'Декабрь' and 22 <= bd_day <= 31):\n",
    "    result = 'Козерог'\n",
    "if (bd_month == 'Февраль' and 1 <= bd_day <= 18) or (bd_month == 'Январь' and 21 <= bd_day <= 31):\n",
    "    result = 'Водолей'\n",
    "if (bd_month == 'Март' and 1 <= bd_day <= 20) or (bd_month == 'Февраль' and 19 <= bd_day <= 29):\n",
    "    result = 'Рыбы'\n",
    "if (bd_month == 'Апрель' and 1 <= bd_day <= 20) or (bd_month == 'Март' and 21 <= bd_day <= 31):\n",
    "    result = 'Овен'\n",
    "if (bd_month == 'Май' and 1 <= bd_day <= 21) or (bd_month == 'Апрель' and 21 <= bd_day <= 30):\n",
    "    result = 'Телец'\n",
    "if (bd_month == 'Июнь' and 1 <= bd_day <= 21) or (bd_month == 'Май' and 22 <= bd_day <= 31):\n",
    "    result = 'Близнецы'\n",
    "if (bd_month == 'Июль' and 1 <= bd_day <= 22) or (bd_month == 'Июнь' and 22 <= bd_day <= 30):\n",
    "    result = 'Рак'\n",
    "if (bd_month == 'Август' and 1 <= bd_day <= 23) or (bd_month == 'Июль' and 23 <= bd_day <= 31):\n",
    "    result = 'Лев'\n",
    "if (bd_month == 'Сентябрь' and 1 <= bd_day <= 22) or (bd_month == 'Август' and 24 <= bd_day <= 31):\n",
    "    result = 'Дева'\n",
    "if (bd_month == 'Октябрь' and 1 <= bd_day <= 23) or (bd_month == 'Сентябрь' and 23 <= bd_day <= 30):\n",
    "    result = 'Весы'\n",
    "if (bd_month == 'Ноябрь' and 1 <= bd_day <= 22) or (bd_month == 'Октябрь' and 24 <= bd_day <= 31):\n",
    "    result = 'Скорпион'\n",
    "if (bd_month == 'Декабрь' and 1 <= bd_day <= 21) or (bd_month == 'Ноябрь' and 23 <= bd_day <= 30):\n",
    "    result = 'Стрелец'\n",
    "    \n",
    "print('Ваш знак зодиака: ', result)"
   ]
  },
  {
   "cell_type": "code",
   "execution_count": null,
   "metadata": {},
   "outputs": [],
   "source": [
    "width = 3\n",
    "length = 201\n",
    "height = 45\n",
    "\n",
    "\n",
    "box_list = [width, length, height]\n",
    "\n",
    "if all([i <= 15 for i in box_list]):\n",
    "    print('Коробка №1')\n",
    "elif any([i > 200 for i in box_list]):\n",
    "    print('Упаковка для лыж')\n",
    "elif any([15 < i < 50 for i in box_list]):\n",
    "    print('Коробка №2')\n",
    "else:\n",
    "    print('Коробка №3')"
   ]
  },
  {
   "cell_type": "code",
   "execution_count": null,
   "metadata": {},
   "outputs": [],
   "source": []
  }
 ],
 "metadata": {
  "kernelspec": {
   "display_name": "Python 3",
   "language": "python",
   "name": "python3"
  },
  "language_info": {
   "codemirror_mode": {
    "name": "ipython",
    "version": 3
   },
   "file_extension": ".py",
   "mimetype": "text/x-python",
   "name": "python",
   "nbconvert_exporter": "python",
   "pygments_lexer": "ipython3",
   "version": "3.7.3"
  }
 },
 "nbformat": 4,
 "nbformat_minor": 4
}
